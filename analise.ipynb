{
 "cells": [
  {
   "cell_type": "markdown",
   "metadata": {},
   "source": [
    "***Importa biblioteca de analise de dados***"
   ]
  },
  {
   "cell_type": "code",
   "execution_count": 93,
   "metadata": {},
   "outputs": [],
   "source": [
    "import pandas as pd"
   ]
  },
  {
   "cell_type": "markdown",
   "metadata": {},
   "source": [
    "***Informa o local do arquivo de analise de dados do arkmeds e o transforma em um Dataframe***"
   ]
  },
  {
   "cell_type": "code",
   "execution_count": 94,
   "metadata": {},
   "outputs": [],
   "source": [
    "df = pd.read_excel('C:/Users/rafae/Desktop/Indicadoresjunho/Arquivo/ordens_servico.xls')"
   ]
  },
  {
   "cell_type": "markdown",
   "metadata": {},
   "source": [
    "***Informa quantas ordens de serviço corretivas foram abertas no total (engenharia clinica e predial)***"
   ]
  },
  {
   "cell_type": "code",
   "execution_count": 95,
   "metadata": {},
   "outputs": [
    {
     "name": "stdout",
     "output_type": "stream",
     "text": [
      "161\n"
     ]
    }
   ],
   "source": [
    "corretivas = df[df['TIPO SERVIÇO'] == 'Manutenção Corretiva']\n",
    "total_corretivas_abertas = corretivas.shape[0]\n",
    "print(total_corretivas_abertas)"
   ]
  },
  {
   "cell_type": "markdown",
   "metadata": {},
   "source": [
    "***Informa quantas ordens de serviço corretivas foram fechadas (Engenharia clinica e predial)***"
   ]
  },
  {
   "cell_type": "code",
   "execution_count": 96,
   "metadata": {},
   "outputs": [
    {
     "name": "stdout",
     "output_type": "stream",
     "text": [
      "131\n"
     ]
    }
   ],
   "source": [
    "corretivas_fechadas = corretivas[corretivas['ESTADO'] == 'Fechada']\n",
    "total_corretivas_fechadas = corretivas_fechadas.shape[0]\n",
    "print(total_corretivas_fechadas)"
   ]
  },
  {
   "cell_type": "markdown",
   "metadata": {},
   "source": [
    "***Informa quantas ordens de serviço preventivas foram abertas no total (engenharia clinica e predial)***"
   ]
  },
  {
   "cell_type": "code",
   "execution_count": 97,
   "metadata": {},
   "outputs": [
    {
     "name": "stdout",
     "output_type": "stream",
     "text": [
      "374\n"
     ]
    }
   ],
   "source": [
    "preventivas = df[df['TIPO SERVIÇO'] == 'Manutenção Preventiva']\n",
    "total_preventivas_abertas = preventivas.shape[0]\n",
    "print(total_preventivas_abertas)"
   ]
  },
  {
   "cell_type": "markdown",
   "metadata": {},
   "source": [
    "***Informa quantas ordens de serviço preventivas foram fechadas (Engenharia Clinica e Predial)***"
   ]
  },
  {
   "cell_type": "code",
   "execution_count": 98,
   "metadata": {},
   "outputs": [
    {
     "name": "stdout",
     "output_type": "stream",
     "text": [
      "136\n"
     ]
    }
   ],
   "source": [
    "preventivas_fechadas =  preventivas[preventivas['ESTADO'] == 'Fechada']\n",
    "total_preventivas_fechadas = preventivas_fechadas.shape[0]\n",
    "print(total_preventivas_fechadas)"
   ]
  },
  {
   "cell_type": "markdown",
   "metadata": {},
   "source": [
    "***Filtra pelo quadro de engenharia clinica***"
   ]
  },
  {
   "cell_type": "code",
   "execution_count": 99,
   "metadata": {},
   "outputs": [],
   "source": [
    "engenharia_clinica = df[df['QUADRO DE TRABALHO'] == 'Engenharia Clínica']"
   ]
  },
  {
   "cell_type": "markdown",
   "metadata": {},
   "source": [
    "***Total de corretivas que foram criadas para engenharia clinica***"
   ]
  },
  {
   "cell_type": "code",
   "execution_count": 100,
   "metadata": {},
   "outputs": [
    {
     "name": "stdout",
     "output_type": "stream",
     "text": [
      "Total de manutenções corretivas abertas no mes para engenharia: 39\n"
     ]
    }
   ],
   "source": [
    "corretivas_engenharia = engenharia_clinica[engenharia_clinica['TIPO SERVIÇO'] == 'Manutenção Corretiva']\n",
    "total_corretivas_criadas_engenharia = corretivas_engenharia.shape[0]\n",
    "print(f\"Total de manutenções corretivas abertas no mes para engenharia: {total_corretivas_criadas_engenharia}\")"
   ]
  },
  {
   "cell_type": "markdown",
   "metadata": {},
   "source": [
    "***Total de corretivas fechadas pela engenharia clinica***"
   ]
  },
  {
   "cell_type": "code",
   "execution_count": 101,
   "metadata": {},
   "outputs": [
    {
     "name": "stdout",
     "output_type": "stream",
     "text": [
      "Total de manutenções corretivas fechadas no mes: 34\n"
     ]
    }
   ],
   "source": [
    "corretivas_engenharia_fechadas = corretivas_engenharia[corretivas_engenharia['ESTADO'] == 'Fechada']\n",
    "total_corretivas_engenharia_fechadas = corretivas_engenharia_fechadas.shape[0]\n",
    "print(f\"Total de manutenções corretivas fechadas no mes: {total_corretivas_engenharia_fechadas}\")"
   ]
  },
  {
   "cell_type": "markdown",
   "metadata": {},
   "source": [
    "***Percentual de corretivas fechadas -  engenharia clinica***"
   ]
  },
  {
   "cell_type": "code",
   "execution_count": 102,
   "metadata": {},
   "outputs": [
    {
     "name": "stdout",
     "output_type": "stream",
     "text": [
      "Percentual de ordens corretivas fechadas: 87.18%\n"
     ]
    }
   ],
   "source": [
    "percentual_corretivas_fechadas_engenharia = (total_corretivas_engenharia_fechadas / total_corretivas_criadas_engenharia) * 100\n",
    "print(f\"Percentual de ordens corretivas fechadas: {percentual_corretivas_fechadas_engenharia:.2f}%\")"
   ]
  },
  {
   "cell_type": "markdown",
   "metadata": {},
   "source": [
    "***Total de preventivas abertas - engenharia clinica***"
   ]
  },
  {
   "cell_type": "code",
   "execution_count": 103,
   "metadata": {},
   "outputs": [
    {
     "name": "stdout",
     "output_type": "stream",
     "text": [
      "Total de manutenções preventivas abertas para engenharia no mes: 28\n"
     ]
    }
   ],
   "source": [
    "preventivas_engenharia = engenharia_clinica[engenharia_clinica['TIPO SERVIÇO'] == 'Manutenção Preventiva']\n",
    "total_preventivas_geradas_predial = preventivas_engenharia.shape[0]\n",
    "print(f\"Total de manutenções preventivas abertas para engenharia no mes: {total_preventivas_geradas_predial}\")"
   ]
  },
  {
   "cell_type": "markdown",
   "metadata": {},
   "source": [
    "***Total de preventivas fechadas - engenharia clinica***"
   ]
  },
  {
   "cell_type": "code",
   "execution_count": 104,
   "metadata": {},
   "outputs": [
    {
     "name": "stdout",
     "output_type": "stream",
     "text": [
      "Total de manutenções preventivas fechadas pela engenharia no mes: 28\n"
     ]
    }
   ],
   "source": [
    "preventivas_engenharia_fechadas = preventivas_engenharia[preventivas_engenharia['ESTADO'] != 'Aberta']\n",
    "total_preventivas_engenharia_fechadas = preventivas_engenharia_fechadas.shape[0]\n",
    "print(f\"Total de manutenções preventivas fechadas pela engenharia no mes: {total_preventivas_engenharia_fechadas}\")"
   ]
  },
  {
   "cell_type": "markdown",
   "metadata": {},
   "source": [
    "***Percentual de preventivas fechadas - engenharia clinica***"
   ]
  },
  {
   "cell_type": "code",
   "execution_count": 105,
   "metadata": {},
   "outputs": [
    {
     "name": "stdout",
     "output_type": "stream",
     "text": [
      "Percentual de ordens preventivas fechadas: 100.00%\n"
     ]
    }
   ],
   "source": [
    "percentual_preventivas_fechadas_engenharia= (total_preventivas_engenharia_fechadas / total_preventivas_geradas_predial) * 100\n",
    "print(f\"Percentual de ordens preventivas fechadas: {percentual_preventivas_fechadas_engenharia:.2f}%\")"
   ]
  },
  {
   "cell_type": "markdown",
   "metadata": {},
   "source": [
    "***SLA triagem emergente engenharia clinica***"
   ]
  },
  {
   "cell_type": "code",
   "execution_count": 106,
   "metadata": {},
   "outputs": [
    {
     "name": "stdout",
     "output_type": "stream",
     "text": [
      "Total de ordens de serviço emergentes abertas para engenharia clinica: 2\n"
     ]
    }
   ],
   "source": [
    "sla_triagem_emergente_engenharia =  corretivas_engenharia[corretivas_engenharia['PRIORIDADE'] == 'Emergente']\n",
    "sla_triagem_emergente_total_engenharia = sla_triagem_emergente_engenharia.shape[0]\n",
    "print(f\"Total de ordens de serviço emergentes abertas para engenharia clinica: {sla_triagem_emergente_total_engenharia}\")"
   ]
  },
  {
   "cell_type": "markdown",
   "metadata": {},
   "source": [
    "***Sla triagem emergente engenharia clinica %***"
   ]
  },
  {
   "cell_type": "code",
   "execution_count": 107,
   "metadata": {},
   "outputs": [
    {
     "name": "stdout",
     "output_type": "stream",
     "text": [
      "Total de atendimento emergente da engenharia clinica dentro do prazo: 50.0%\n"
     ]
    }
   ],
   "source": [
    "sla_triagem_emergente_regular_engenharia = sla_triagem_emergente_engenharia[sla_triagem_emergente_engenharia['Estado tempo atendimento'] == 'Regular']\n",
    "sla_triagem_emergente_regular_total_engenharia = sla_triagem_emergente_regular_engenharia.shape[0]\n",
    "if sla_triagem_emergente_regular_total_engenharia == 0:\n",
    "    print(f\"Não houve chamados emergentes aberto no mes!\")\n",
    "else:\n",
    "    percentual_sla_triagem_emergente_engenharia = (sla_triagem_emergente_regular_total_engenharia/sla_triagem_emergente_total_engenharia) * 100\n",
    "    print(f\"Total de atendimento emergente da engenharia clinica dentro do prazo: {percentual_sla_triagem_emergente_engenharia}%\")"
   ]
  },
  {
   "cell_type": "markdown",
   "metadata": {},
   "source": [
    "***SLA fechamento emergente engenharia clinica %***"
   ]
  },
  {
   "cell_type": "code",
   "execution_count": 108,
   "metadata": {},
   "outputs": [
    {
     "name": "stdout",
     "output_type": "stream",
     "text": [
      "Total de ordens serviços emergentes fechadas dentro do prazo 50.0\n"
     ]
    }
   ],
   "source": [
    "sla_fechamento_emergente_regular_engenharia = sla_triagem_emergente_engenharia[sla_triagem_emergente_engenharia['Estado tempo fechamento'] == 'Regular']\n",
    "sla_fechamento_emergente_regular_total_engenharia = sla_fechamento_emergente_regular_engenharia.shape[0]\n",
    "if sla_fechamento_emergente_regular_total_engenharia == 0:\n",
    "    print(\"Não houve chamados emergentes aberto no mes!\")\n",
    "else:\n",
    "    percentual_sla_fechamento_emergente_engenharia = (sla_fechamento_emergente_regular_total_engenharia/sla_triagem_emergente_total_engenharia) * 100\n",
    "    print(f\"Total de ordens serviços emergentes fechadas dentro do prazo {percentual_sla_fechamento_emergente_engenharia}\")"
   ]
  },
  {
   "cell_type": "markdown",
   "metadata": {},
   "source": [
    "***Sla triagem urgente engenharia clinica***"
   ]
  },
  {
   "cell_type": "code",
   "execution_count": 109,
   "metadata": {},
   "outputs": [
    {
     "name": "stdout",
     "output_type": "stream",
     "text": [
      "Total de ordens de serviço urgentes abertas para engenharia clinica 25\n"
     ]
    }
   ],
   "source": [
    "sla_triagem_urgente_engenharia = corretivas_engenharia[corretivas_engenharia['PRIORIDADE'] == 'Urgente']\n",
    "sla_triagem_urgente_total_engenharia = sla_triagem_urgente_engenharia.shape[0]\n",
    "print(f\"Total de ordens de serviço urgentes abertas para engenharia clinica {sla_triagem_urgente_total_engenharia}\")"
   ]
  },
  {
   "cell_type": "markdown",
   "metadata": {},
   "source": [
    "***Sla triagem urgente engenharia %***"
   ]
  },
  {
   "cell_type": "code",
   "execution_count": 110,
   "metadata": {},
   "outputs": [
    {
     "name": "stdout",
     "output_type": "stream",
     "text": [
      "Total de atendimento urgente da engenharia clinica dentro do prazo: 88.0%\n"
     ]
    }
   ],
   "source": [
    "sla_triagem_urgente_regular_engenharia = sla_triagem_urgente_engenharia[sla_triagem_urgente_engenharia['Estado tempo atendimento'] == 'Regular']\n",
    "sla_triagem_urgente_regular_total_engenharia = sla_triagem_urgente_regular_engenharia.shape[0]\n",
    "percentual_sla_triagem_urgente_engenharia = (sla_triagem_urgente_regular_total_engenharia / sla_triagem_urgente_total_engenharia) * 100\n",
    "print(f\"Total de atendimento urgente da engenharia clinica dentro do prazo: {percentual_sla_triagem_urgente_engenharia}%\")"
   ]
  },
  {
   "cell_type": "markdown",
   "metadata": {},
   "source": [
    "***Sla fechamento urgente engenharia %***"
   ]
  },
  {
   "cell_type": "code",
   "execution_count": 111,
   "metadata": {},
   "outputs": [
    {
     "name": "stdout",
     "output_type": "stream",
     "text": [
      "Total de ordens serviços urgentes fechadas dentro do prazo 80.0%\n"
     ]
    }
   ],
   "source": [
    "sla_fechamento_urgente_regular_engenharia = sla_triagem_urgente_engenharia [sla_triagem_urgente_engenharia ['Estado tempo fechamento'] == 'Regular']\n",
    "sla_fechamento_urgente_regular_total_engenharia = sla_fechamento_urgente_regular_engenharia.shape[0]\n",
    "percentual_sla_fechamento_urgente_regular_total_engenharia = (sla_fechamento_urgente_regular_total_engenharia /sla_triagem_urgente_total_engenharia ) * 100\n",
    "print(f\"Total de ordens serviços urgentes fechadas dentro do prazo {percentual_sla_fechamento_urgente_regular_total_engenharia}%\")"
   ]
  },
  {
   "cell_type": "markdown",
   "metadata": {},
   "source": [
    "***SLA triagem pouco urgente engenharia clinica***"
   ]
  },
  {
   "cell_type": "code",
   "execution_count": 112,
   "metadata": {},
   "outputs": [
    {
     "name": "stdout",
     "output_type": "stream",
     "text": [
      "Total de ordens de serviço pouco urgentes abertas para engenharia clinica: 11\n"
     ]
    }
   ],
   "source": [
    "sla_triagem_poucourgente_engenharia = corretivas_engenharia[corretivas_engenharia['PRIORIDADE'] == 'Pouco urgente']\n",
    "sla_triagem_poucourgente_engenharia_total = sla_triagem_poucourgente_engenharia.shape[0]\n",
    "print(f\"Total de ordens de serviço pouco urgentes abertas para engenharia clinica: {sla_triagem_poucourgente_engenharia_total}\")"
   ]
  },
  {
   "cell_type": "markdown",
   "metadata": {},
   "source": [
    "***Sla triagem pouco urgente engenharia %***\n"
   ]
  },
  {
   "cell_type": "code",
   "execution_count": 113,
   "metadata": {},
   "outputs": [
    {
     "name": "stdout",
     "output_type": "stream",
     "text": [
      "Total de atendimento pouco urgente da engenharia clinica dentro do prazo: 90.9090909090909%\n"
     ]
    }
   ],
   "source": [
    "sla_triagem_poucourgente_regular_engenharia = sla_triagem_poucourgente_engenharia[sla_triagem_poucourgente_engenharia['Estado tempo atendimento'] == 'Regular']\n",
    "sla_triagem_poucourgente_regular_engenharia_total = sla_triagem_poucourgente_regular_engenharia.shape[0]\n",
    "percentual_sla_poucourgente_engenharia = (sla_triagem_poucourgente_regular_engenharia_total/sla_triagem_poucourgente_engenharia_total) * 100\n",
    "print(f\"Total de atendimento pouco urgente da engenharia clinica dentro do prazo: {percentual_sla_poucourgente_engenharia}%\")"
   ]
  },
  {
   "cell_type": "markdown",
   "metadata": {},
   "source": [
    "***Sla fechamento pouco urgente engenharia***"
   ]
  },
  {
   "cell_type": "code",
   "execution_count": 114,
   "metadata": {},
   "outputs": [
    {
     "name": "stdout",
     "output_type": "stream",
     "text": [
      "Total de ordens serviços urgentes fechadas dentro do prazo 81.81818181818183 %\n"
     ]
    }
   ],
   "source": [
    "sla_fechamento_poucourgente_regular_engenharia = sla_triagem_poucourgente_engenharia[sla_triagem_poucourgente_engenharia['Estado tempo fechamento'] == 'Regular']\n",
    "sla_fechamento_poucourgente_regular_total_engenharia = sla_fechamento_poucourgente_regular_engenharia.shape[0]\n",
    "percentual_sla_fechamento_poucourgente_regular_total_engenharia = (sla_fechamento_poucourgente_regular_total_engenharia/sla_triagem_poucourgente_engenharia_total) * 100\n",
    "print(f\"Total de ordens serviços urgentes fechadas dentro do prazo {percentual_sla_fechamento_poucourgente_regular_total_engenharia} %\")"
   ]
  },
  {
   "cell_type": "markdown",
   "metadata": {},
   "source": [
    "***SLA triagem não urgente engenharia clinica***"
   ]
  },
  {
   "cell_type": "code",
   "execution_count": 115,
   "metadata": {},
   "outputs": [
    {
     "name": "stdout",
     "output_type": "stream",
     "text": [
      "Total de ordens de serviço não urgentes abertas para engenharia clinica 1\n"
     ]
    }
   ],
   "source": [
    "sla_triagem_naourgente_engenharia = corretivas_engenharia[corretivas_engenharia['PRIORIDADE'] == 'Não urgente']\n",
    "sla_triagem_naourgente_engenharia_total = sla_triagem_naourgente_engenharia.shape[0]\n",
    "print(f\"Total de ordens de serviço não urgentes abertas para engenharia clinica {sla_triagem_naourgente_engenharia_total}\")"
   ]
  },
  {
   "cell_type": "markdown",
   "metadata": {},
   "source": [
    "***SLA triagem não urgente engenharia clinica***"
   ]
  },
  {
   "cell_type": "code",
   "execution_count": 116,
   "metadata": {},
   "outputs": [
    {
     "name": "stdout",
     "output_type": "stream",
     "text": [
      "Total de atendimento nao urgente da engenharia clinica dentro do prazo: 100.0%\n"
     ]
    }
   ],
   "source": [
    "sla_triagem_naourgente_regular_engenharia = sla_triagem_naourgente_engenharia[sla_triagem_naourgente_engenharia['Estado tempo atendimento'] == 'Regular']\n",
    "sla_naourgente_engenharia_total = sla_triagem_naourgente_regular_engenharia.shape[0]\n",
    "percentual_sla_naourgente_engenharia = (sla_naourgente_engenharia_total/sla_naourgente_engenharia_total) * 100\n",
    "print(f\"Total de atendimento nao urgente da engenharia clinica dentro do prazo: {percentual_sla_naourgente_engenharia}%\")"
   ]
  },
  {
   "cell_type": "markdown",
   "metadata": {},
   "source": [
    "***Sla fechamaneto não urgente engenharia clinica %***"
   ]
  },
  {
   "cell_type": "code",
   "execution_count": 117,
   "metadata": {},
   "outputs": [
    {
     "name": "stdout",
     "output_type": "stream",
     "text": [
      "Total de ordens serviços urgentes fechadas dentro do prazo 100.0%\n"
     ]
    }
   ],
   "source": [
    "sla_fechamento_naourgente_regular_engenharia = sla_triagem_naourgente_engenharia[sla_triagem_naourgente_engenharia['Estado tempo fechamento'] == 'Regular']\n",
    "sla_fechamento_naourgente_regular_total_engenharia = sla_fechamento_naourgente_regular_engenharia.shape[0]\n",
    "percentual_sla_fechamento_naourgente_regular_total_engenharia = (sla_fechamento_naourgente_regular_total_engenharia/sla_naourgente_engenharia_total) * 100\n",
    "print(f\"Total de ordens serviços urgentes fechadas dentro do prazo {percentual_sla_fechamento_naourgente_regular_total_engenharia}%\")"
   ]
  },
  {
   "cell_type": "markdown",
   "metadata": {},
   "source": [
    "***Filtra pelo quadro de manutenção predial***"
   ]
  },
  {
   "cell_type": "code",
   "execution_count": 118,
   "metadata": {},
   "outputs": [],
   "source": [
    "predial = df[df['QUADRO DE TRABALHO'] == 'Predial']"
   ]
  },
  {
   "cell_type": "markdown",
   "metadata": {},
   "source": [
    "***Total de corretivas abertas para manutenção predial***"
   ]
  },
  {
   "cell_type": "code",
   "execution_count": 119,
   "metadata": {},
   "outputs": [
    {
     "name": "stdout",
     "output_type": "stream",
     "text": [
      "Total de manutenções corretivas abertas no mes para predial:122\n"
     ]
    }
   ],
   "source": [
    "corretivas_predial = predial[predial['TIPO SERVIÇO'] == 'Manutenção Corretiva']\n",
    "total_corretivas_criadas_predial = corretivas_predial.shape[0]\n",
    "print(f\"Total de manutenções corretivas abertas no mes para predial:{total_corretivas_criadas_predial}\")\n"
   ]
  },
  {
   "cell_type": "markdown",
   "metadata": {},
   "source": [
    "***Total de corretivas fechadas pela predial***"
   ]
  },
  {
   "cell_type": "code",
   "execution_count": 120,
   "metadata": {},
   "outputs": [
    {
     "name": "stdout",
     "output_type": "stream",
     "text": [
      "Total de manutenções corretivas fechadas pela predial: 97\n"
     ]
    }
   ],
   "source": [
    "corretivas_predial_fechadas = corretivas_predial[corretivas_predial['ESTADO'] == 'Fechada']\n",
    "total_corretivas_predial_fechadas = corretivas_predial_fechadas.shape[0]\n",
    "print(f\"Total de manutenções corretivas fechadas pela predial: {total_corretivas_predial_fechadas}\")"
   ]
  },
  {
   "cell_type": "markdown",
   "metadata": {},
   "source": [
    "***Percentual de corretivas fechadas - predial***"
   ]
  },
  {
   "cell_type": "code",
   "execution_count": 121,
   "metadata": {},
   "outputs": [
    {
     "name": "stdout",
     "output_type": "stream",
     "text": [
      "Percentual de ordens corretivas fechadas pela predial: 79.51%\n"
     ]
    }
   ],
   "source": [
    "percentual_corretivas_fechadas_predial = (total_corretivas_predial_fechadas / total_corretivas_criadas_predial) * 100\n",
    "print(f\"Percentual de ordens corretivas fechadas pela predial: {percentual_corretivas_fechadas_predial:.2f}%\")"
   ]
  },
  {
   "cell_type": "markdown",
   "metadata": {},
   "source": [
    "***Total de preventivas abertas - predial***"
   ]
  },
  {
   "cell_type": "code",
   "execution_count": 122,
   "metadata": {},
   "outputs": [
    {
     "name": "stdout",
     "output_type": "stream",
     "text": [
      "Total de manutenções preventivas geradas para predial no mes: 346\n"
     ]
    }
   ],
   "source": [
    "preventivas_predial = predial[predial['TIPO SERVIÇO'] == 'Manutenção Preventiva']\n",
    "total_preventivas_geradas_predial = preventivas_predial.shape[0]\n",
    "print(f\"Total de manutenções preventivas geradas para predial no mes: {total_preventivas_geradas_predial}\")"
   ]
  },
  {
   "cell_type": "markdown",
   "metadata": {},
   "source": [
    "***Total de preventivas Fechadas - predial***"
   ]
  },
  {
   "cell_type": "code",
   "execution_count": 123,
   "metadata": {},
   "outputs": [
    {
     "name": "stdout",
     "output_type": "stream",
     "text": [
      "Total de manutenções preventivas fechadas pela predial no mes: 148\n"
     ]
    }
   ],
   "source": [
    "preventiva_predial_fechada = preventivas_predial[preventivas_predial['ESTADO'] != 'Aberta']\n",
    "total_preventivas_predial_fechada = preventiva_predial_fechada.shape[0]\n",
    "print(f\"Total de manutenções preventivas fechadas pela predial no mes: {total_preventivas_predial_fechada}\")"
   ]
  },
  {
   "cell_type": "markdown",
   "metadata": {},
   "source": [
    "***Percentual de preventivas fechadas - Predial***"
   ]
  },
  {
   "cell_type": "code",
   "execution_count": 124,
   "metadata": {},
   "outputs": [
    {
     "name": "stdout",
     "output_type": "stream",
     "text": [
      "Percentual de ordens preventivas fechadas pela predial: 42.77%\n"
     ]
    }
   ],
   "source": [
    "percentual_preventivas_fechadas_predial = (total_preventivas_predial_fechada / total_preventivas_geradas_predial) * 100\n",
    "print(f\"Percentual de ordens preventivas fechadas pela predial: {percentual_preventivas_fechadas_predial:.2f}%\")"
   ]
  },
  {
   "cell_type": "markdown",
   "metadata": {},
   "source": [
    "***SLA triagem emergente - Predial***"
   ]
  },
  {
   "cell_type": "code",
   "execution_count": 125,
   "metadata": {},
   "outputs": [
    {
     "name": "stdout",
     "output_type": "stream",
     "text": [
      "Total de ordens de serviço emergentes abertas para predial: 10\n"
     ]
    }
   ],
   "source": [
    "sla_triagem_emergente_predial = corretivas_predial[corretivas_predial['PRIORIDADE'] == 'Emergente']\n",
    "sla_triagem_emergente_total_predial = sla_triagem_emergente_predial.shape[0]\n",
    "print(f\"Total de ordens de serviço emergentes abertas para predial: {sla_triagem_emergente_total_predial}\")"
   ]
  },
  {
   "cell_type": "markdown",
   "metadata": {},
   "source": [
    "***SLA triagem emergente Predial %***"
   ]
  },
  {
   "cell_type": "code",
   "execution_count": 126,
   "metadata": {},
   "outputs": [
    {
     "name": "stdout",
     "output_type": "stream",
     "text": [
      "Total de atendimento emergente da predial dentro do prazo:80.0\n"
     ]
    }
   ],
   "source": [
    "sla_triagem_emergente_regular_predial = sla_triagem_emergente_predial[sla_triagem_emergente_predial['Estado tempo atendimento'] == 'Regular']\n",
    "sla_triagem_emergente_regular_total_predial = sla_triagem_emergente_regular_predial.shape[0]\n",
    "if sla_triagem_emergente_regular_total_predial == 0:\n",
    "    sla_triagem_emergente_regular_total_predial = 0\n",
    "    print(f\"Não houve chamados emergente aberto no mes! {sla_triagem_emergente_regular_total_predial}\")\n",
    "else:\n",
    "    percentual_sla_triagem_emergente_predial = (sla_triagem_emergente_regular_total_predial / sla_triagem_emergente_total_predial) * 100\n",
    "    print(f\"Total de atendimento emergente da predial dentro do prazo:{percentual_sla_triagem_emergente_predial}\")"
   ]
  },
  {
   "cell_type": "markdown",
   "metadata": {},
   "source": [
    "***SLA fechamento emergente Predial %***"
   ]
  },
  {
   "cell_type": "code",
   "execution_count": 127,
   "metadata": {},
   "outputs": [
    {
     "name": "stdout",
     "output_type": "stream",
     "text": [
      "Total de ordens serviços emergentes fechadas dentro do prazo 80.0\n"
     ]
    }
   ],
   "source": [
    "sla_fechamento_emergente_regular_predial = sla_triagem_emergente_predial[sla_triagem_emergente_predial['Estado tempo fechamento'] == 'Regular']\n",
    "sla_fechamento_emergente_regular_total_predial = sla_fechamento_emergente_regular_predial.shape[0]\n",
    "if sla_fechamento_emergente_regular_total_predial == 0:\n",
    "    print(\"Não houve chamados emergentes aberto no mes!\")\n",
    "else:\n",
    "    percentual_sla_fechamento_emergente_predial = (sla_fechamento_emergente_regular_total_predial/sla_triagem_emergente_total_predial) * 100\n",
    "    print(f\"Total de ordens serviços emergentes fechadas dentro do prazo {percentual_sla_fechamento_emergente_predial}\")"
   ]
  },
  {
   "cell_type": "markdown",
   "metadata": {},
   "source": [
    "***SLA triagem urgente Predial***"
   ]
  },
  {
   "cell_type": "code",
   "execution_count": 128,
   "metadata": {},
   "outputs": [
    {
     "name": "stdout",
     "output_type": "stream",
     "text": [
      "Total de ordens de serviço urgentes abertas para engenharia clinica 48\n"
     ]
    }
   ],
   "source": [
    "sla_triagem_urgente_predial = corretivas_predial[corretivas_predial['PRIORIDADE'] == 'Urgente']\n",
    "sla_triagem_urgente_predial_total = sla_triagem_urgente_predial.shape[0]\n",
    "print(f\"Total de ordens de serviço urgentes abertas para engenharia clinica {sla_triagem_urgente_predial_total}\")"
   ]
  },
  {
   "cell_type": "markdown",
   "metadata": {},
   "source": [
    "***SLA triagem urgente Predial %***"
   ]
  },
  {
   "cell_type": "code",
   "execution_count": 129,
   "metadata": {},
   "outputs": [
    {
     "name": "stdout",
     "output_type": "stream",
     "text": [
      "Total de atendimento urgente da engenharia clinica dentro do prazo: 85.41666666666666%\n"
     ]
    }
   ],
   "source": [
    "sla_triagem_urgente_regular_predial = sla_triagem_urgente_predial[sla_triagem_urgente_predial['Estado tempo atendimento'] == 'Regular']\n",
    "sla_triagem_urgente_regular_total_predial = sla_triagem_urgente_regular_predial.shape[0]\n",
    "percentual_sla_triagem_urgente_predial = (sla_triagem_urgente_regular_total_predial / sla_triagem_urgente_predial_total) * 100\n",
    "print(f\"Total de atendimento urgente da engenharia clinica dentro do prazo: {percentual_sla_triagem_urgente_predial}%\")"
   ]
  },
  {
   "cell_type": "markdown",
   "metadata": {},
   "source": [
    "***SLA fechamento urgente Predial %***"
   ]
  },
  {
   "cell_type": "code",
   "execution_count": 130,
   "metadata": {},
   "outputs": [
    {
     "name": "stdout",
     "output_type": "stream",
     "text": [
      "Total de ordens serviços urgentes fechadas dentro do prazo 66.66666666666666%\n"
     ]
    }
   ],
   "source": [
    "sla_fechamento_urgente_regular_predial = sla_triagem_urgente_predial [sla_triagem_urgente_predial ['Estado tempo fechamento'] == 'Regular']\n",
    "sla_fechamento_urgente_regular_total_predial = sla_fechamento_urgente_regular_predial.shape[0]\n",
    "percentual_sla_fechamento_urgente_regular_total_predial = (sla_fechamento_urgente_regular_total_predial / sla_triagem_urgente_predial_total ) * 100\n",
    "print(f\"Total de ordens serviços urgentes fechadas dentro do prazo {percentual_sla_fechamento_urgente_regular_total_predial}%\")"
   ]
  },
  {
   "cell_type": "markdown",
   "metadata": {},
   "source": [
    "***SLA triagem pouco urgente Predial***"
   ]
  },
  {
   "cell_type": "code",
   "execution_count": 131,
   "metadata": {},
   "outputs": [
    {
     "name": "stdout",
     "output_type": "stream",
     "text": [
      "Total de ordens de serviço pouco urgentes abertas para engenharia clinica: 62\n"
     ]
    }
   ],
   "source": [
    "sla_triagem_poucourgente_predial = corretivas_predial[corretivas_predial['PRIORIDADE'] == 'Pouco urgente']\n",
    "sla_triagem_poucourgente_predial_total = sla_triagem_poucourgente_predial.shape[0]\n",
    "print(f\"Total de ordens de serviço pouco urgentes abertas para engenharia clinica: {sla_triagem_poucourgente_predial_total}\")"
   ]
  },
  {
   "cell_type": "markdown",
   "metadata": {},
   "source": [
    "***SLA triagem pouco urgente Predial %***"
   ]
  },
  {
   "cell_type": "code",
   "execution_count": 132,
   "metadata": {},
   "outputs": [
    {
     "name": "stdout",
     "output_type": "stream",
     "text": [
      "Total de atendimento pouco urgente da engenharia clinica dentro do prazo: 90.9090909090909%\n"
     ]
    }
   ],
   "source": [
    "sla_triagem_poucourgente_regular_predial = sla_triagem_poucourgente_predial[sla_triagem_poucourgente_predial['Estado tempo atendimento'] == 'Regular']\n",
    "sla_triagem_poucourgente_regular_predial_total = sla_triagem_poucourgente_regular_predial.shape[0]\n",
    "percentual_sla_poucourgente_predial = (sla_triagem_poucourgente_regular_engenharia_total/sla_triagem_poucourgente_engenharia_total) * 100\n",
    "print(f\"Total de atendimento pouco urgente da engenharia clinica dentro do prazo: {percentual_sla_poucourgente_predial}%\")"
   ]
  },
  {
   "cell_type": "markdown",
   "metadata": {},
   "source": [
    "***SLA fechamento pouco urgente Predial***"
   ]
  },
  {
   "cell_type": "code",
   "execution_count": 133,
   "metadata": {},
   "outputs": [
    {
     "name": "stdout",
     "output_type": "stream",
     "text": [
      "Total de ordens serviços urgentes fechadas dentro do prazo 59.67741935483871 %\n"
     ]
    }
   ],
   "source": [
    "sla_fechamento_poucourgente_regular_predial = sla_triagem_poucourgente_predial[sla_triagem_poucourgente_predial['Estado tempo fechamento'] == 'Regular']\n",
    "sla_fechamento_poucourgente_regular_total_predial = sla_fechamento_poucourgente_regular_predial.shape[0]\n",
    "percentual_sla_fechamento_poucourgente_regular_total_predial = (sla_fechamento_poucourgente_regular_total_predial/sla_triagem_poucourgente_predial_total) * 100\n",
    "print(f\"Total de ordens serviços urgentes fechadas dentro do prazo {percentual_sla_fechamento_poucourgente_regular_total_predial} %\")"
   ]
  },
  {
   "cell_type": "markdown",
   "metadata": {},
   "source": [
    "***SLA triagem não urgente Predial***"
   ]
  },
  {
   "cell_type": "code",
   "execution_count": 134,
   "metadata": {},
   "outputs": [
    {
     "name": "stdout",
     "output_type": "stream",
     "text": [
      "Total de ordens de serviço não urgentes abertas para engenharia clinica 2\n"
     ]
    }
   ],
   "source": [
    "sla_triagem_naourgente_predial = corretivas_predial[corretivas_predial['PRIORIDADE'] == 'Não urgente']\n",
    "sla_triagem_naourgente_predial_total = sla_triagem_naourgente_predial.shape[0]\n",
    "print(f\"Total de ordens de serviço não urgentes abertas para engenharia clinica {sla_triagem_naourgente_predial_total}\")"
   ]
  },
  {
   "cell_type": "markdown",
   "metadata": {},
   "source": [
    "***SLA triagem não urgente Predial %***"
   ]
  },
  {
   "cell_type": "code",
   "execution_count": 135,
   "metadata": {},
   "outputs": [
    {
     "name": "stdout",
     "output_type": "stream",
     "text": [
      "teve: 2 chamados, porem os que foram atendidos dentro do prazo foram: 0\n"
     ]
    }
   ],
   "source": [
    "sla_triagem_naourgente_regular_predial = sla_triagem_naourgente_predial[sla_triagem_naourgente_predial['Estado tempo atendimento'] == 'Regular']\n",
    "sla_naourgente_predial_total = sla_triagem_naourgente_regular_predial.shape[0]\n",
    "if sla_naourgente_predial_total == 0:\n",
    "    print(f\"teve: {sla_triagem_naourgente_predial_total} chamados, porem os que foram atendidos dentro do prazo foram: {sla_naourgente_predial_total}\")\n",
    "else: \n",
    "    percentual_sla_naourgente_predial = (sla_naourgente_predial_total/sla_naourgente_predial_total) * 100\n",
    "    print(f\"Total de atendimento nao urgente da engenharia clinica dentro do prazo: {percentual_sla_naourgente_predial}%\")"
   ]
  },
  {
   "cell_type": "markdown",
   "metadata": {},
   "source": [
    "***SLA Fechamento não urgente Predial %***"
   ]
  },
  {
   "cell_type": "code",
   "execution_count": 137,
   "metadata": {},
   "outputs": [
    {
     "name": "stdout",
     "output_type": "stream",
     "text": [
      "Teve 0 chamados\n"
     ]
    }
   ],
   "source": [
    "sla_fechamento_naourgente_regular_predial = sla_triagem_naourgente_predial[sla_triagem_naourgente_predial['Estado tempo fechamento'] == 'Regular']\n",
    "sla_fechamento_naourgente_regular_total_predial = sla_fechamento_naourgente_regular_predial.shape[0]\n",
    "if sla_fechamento_naourgente_regular_total_predial == 0:\n",
    "    print(f\"Teve {sla_fechamento_naourgente_regular_total_predial} chamados\")\n",
    "else:\n",
    "    percentual_sla_fechamento_naourgente_regular_total_predial = (sla_fechamento_naourgente_regular_total_predial/sla_naourgente_predial_total) * 100\n",
    "    print(f\"Total de ordens serviços urgentes fechadas dentro do prazo {percentual_sla_fechamento_naourgente_regular_total_engenharia}%\")"
   ]
  }
 ],
 "metadata": {
  "kernelspec": {
   "display_name": "Python 3",
   "language": "python",
   "name": "python3"
  },
  "language_info": {
   "codemirror_mode": {
    "name": "ipython",
    "version": 3
   },
   "file_extension": ".py",
   "mimetype": "text/x-python",
   "name": "python",
   "nbconvert_exporter": "python",
   "pygments_lexer": "ipython3",
   "version": "3.12.1"
  }
 },
 "nbformat": 4,
 "nbformat_minor": 2
}
