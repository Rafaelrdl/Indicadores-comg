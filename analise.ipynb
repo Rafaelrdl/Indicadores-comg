{
 "cells": [
  {
   "cell_type": "markdown",
   "metadata": {},
   "source": [
    "***Importa biblioteca de analise de dados***"
   ]
  },
  {
   "cell_type": "code",
   "execution_count": 1,
   "metadata": {},
   "outputs": [
    {
     "ename": "ModuleNotFoundError",
     "evalue": "No module named 'pandas'",
     "output_type": "error",
     "traceback": [
      "\u001b[1;31m---------------------------------------------------------------------------\u001b[0m",
      "\u001b[1;31mModuleNotFoundError\u001b[0m                       Traceback (most recent call last)",
      "Cell \u001b[1;32mIn[1], line 1\u001b[0m\n\u001b[1;32m----> 1\u001b[0m \u001b[38;5;28;01mimport\u001b[39;00m \u001b[38;5;21;01mpandas\u001b[39;00m \u001b[38;5;28;01mas\u001b[39;00m \u001b[38;5;21;01mpd\u001b[39;00m\n",
      "\u001b[1;31mModuleNotFoundError\u001b[0m: No module named 'pandas'"
     ]
    }
   ],
   "source": [
    "import pandas as pd"
   ]
  },
  {
   "cell_type": "markdown",
   "metadata": {},
   "source": [
    "***Informa o local do arquivo de analise de dados do arkmeds e o transforma em um Dataframe***"
   ]
  },
  {
   "cell_type": "code",
   "execution_count": null,
   "metadata": {},
   "outputs": [],
   "source": [
    "df = pd.read_excel('C:/Users/rafae/Projetos/Indicadores/File/maio/ordens_servico.xls')"
   ]
  },
  {
   "cell_type": "markdown",
   "metadata": {},
   "source": [
    "***Informa quantas ordens de serviço corretivas foram abertas no total (engenharia clinica e predial)***"
   ]
  },
  {
   "cell_type": "code",
   "execution_count": null,
   "metadata": {},
   "outputs": [],
   "source": [
    "corretivas = df[df['TIPO SERVIÇO'] == 'Manutenção Corretiva']\n",
    "total_corretivas_abertas = corretivas.shape[0]\n",
    "print(total_corretivas_abertas)"
   ]
  },
  {
   "cell_type": "markdown",
   "metadata": {},
   "source": [
    "***Informa quantas ordens de serviço corretivas foram fechadas (Engenharia clinica e predial)***"
   ]
  },
  {
   "cell_type": "code",
   "execution_count": null,
   "metadata": {},
   "outputs": [],
   "source": [
    "corretivas_fechadas = corretivas[corretivas['ESTADO'] == 'Fechada']\n",
    "total_corretivas_fechadas = corretivas_fechadas.shape[0]\n",
    "print(total_corretivas_fechadas)"
   ]
  },
  {
   "cell_type": "markdown",
   "metadata": {},
   "source": [
    "***Informa quantas ordens de serviço preventivas foram abertas no total (engenharia clinica e predial)***"
   ]
  },
  {
   "cell_type": "code",
   "execution_count": null,
   "metadata": {},
   "outputs": [],
   "source": [
    "preventivas = df[df['TIPO SERVIÇO'] == 'Manutenção Preventiva']\n",
    "total_preventivas_abertas = preventivas.shape[0]\n",
    "print(total_preventivas_abertas)"
   ]
  },
  {
   "cell_type": "markdown",
   "metadata": {},
   "source": [
    "***Informa quantas ordens de serviço preventivas foram fechadas (Engenharia Clinica e Predial)***"
   ]
  },
  {
   "cell_type": "code",
   "execution_count": null,
   "metadata": {},
   "outputs": [],
   "source": [
    "preventivas_fechadas =  preventivas[preventivas['ESTADO'] == 'Fechada']\n",
    "total_preventivas_fechadas = preventivas_fechadas.shape[0]\n",
    "print(total_preventivas_fechadas)"
   ]
  },
  {
   "cell_type": "markdown",
   "metadata": {},
   "source": [
    "***Filtra pelo quadro de engenharia clinica***"
   ]
  },
  {
   "cell_type": "code",
   "execution_count": null,
   "metadata": {},
   "outputs": [],
   "source": [
    "engenharia_clinica = df[df['QUADRO DE TRABALHO'] == 'Engenharia Clínica']"
   ]
  },
  {
   "cell_type": "markdown",
   "metadata": {},
   "source": [
    "***Total de corretivas abertas para engenharia clinica***"
   ]
  },
  {
   "cell_type": "code",
   "execution_count": null,
   "metadata": {},
   "outputs": [],
   "source": [
    "corretivas_engenharia = engenharia_clinica[engenharia_clinica['TIPO SERVIÇO'] == 'Manutenção Corretiva']\n",
    "total_corretivas = corretivas_engenharia.shape[0]\n",
    "print(f\"Total de manutenções corretivas abertas no mes: {total_corretivas}\")"
   ]
  },
  {
   "cell_type": "markdown",
   "metadata": {},
   "source": [
    "***Total de corretivas fechada pela engenharia clinica***"
   ]
  },
  {
   "cell_type": "code",
   "execution_count": null,
   "metadata": {},
   "outputs": [],
   "source": [
    "corretivas_engenharia_fechadas = corretivas_engenharia[corretivas_engenharia['ESTADO'] == 'Fechada']\n",
    "total_corretivas_engenharia_fechadas = corretivas_engenharia_fechadas.shape[0]\n",
    "print(f\"Total de manutenções corretivas fechadas no mes: {total_corretivas_engenharia_fechadas}\")"
   ]
  },
  {
   "cell_type": "markdown",
   "metadata": {},
   "source": [
    "***Percentual de corretivas fechadas -  engenharia clinica***"
   ]
  },
  {
   "cell_type": "code",
   "execution_count": null,
   "metadata": {},
   "outputs": [],
   "source": [
    "percentual_corretivas_fechadas = (total_corretivas_engenharia_fechadas / total_corretivas) * 100\n",
    "print(f\"Percentual de ordens corretivas fechadas: {percentual_corretivas_fechadas:.2f}%\")"
   ]
  },
  {
   "cell_type": "markdown",
   "metadata": {},
   "source": [
    "***Total de preventivas abertas - engenharia clinica***"
   ]
  },
  {
   "cell_type": "code",
   "execution_count": null,
   "metadata": {},
   "outputs": [],
   "source": [
    "preventivas_engenharia = engenharia_clinica[engenharia_clinica['TIPO SERVIÇO'] == 'Manutenção Preventiva']\n",
    "total_preventivas = preventivas_engenharia.shape[0]\n",
    "print(f\"Total de manutenções preventivas abertas para engenharia no mes: {total_preventivas}\")"
   ]
  },
  {
   "cell_type": "markdown",
   "metadata": {},
   "source": [
    "***Total de preventivas fechadas - engenharia clinica***"
   ]
  },
  {
   "cell_type": "code",
   "execution_count": null,
   "metadata": {},
   "outputs": [],
   "source": [
    "preventivas_engenharia_fechadas = preventivas_engenharia[preventivas_engenharia['ESTADO'] != 'Aberta']\n",
    "total_preventivas_engenharia_fechadas = preventivas_engenharia_fechadas.shape[0]\n",
    "print(f\"Total de manutenções preventivas fechadas pela engenharia no mes: {total_preventivas_engenharia_fechadas}\")"
   ]
  },
  {
   "cell_type": "markdown",
   "metadata": {},
   "source": [
    "***Percentual de preventivas fechadas - engenharia clinica***"
   ]
  },
  {
   "cell_type": "code",
   "execution_count": null,
   "metadata": {},
   "outputs": [],
   "source": [
    "percentual_preventivas_fechadas= (total_preventivas_engenharia_fechadas / total_preventivas) * 100\n",
    "print(f\"Percentual de ordens preventivas fechadas: {percentual_preventivas_fechadas:.2f}%\")"
   ]
  },
  {
   "cell_type": "markdown",
   "metadata": {},
   "source": [
    "***SLA triagem emergente engenharia clinica***"
   ]
  },
  {
   "cell_type": "code",
   "execution_count": null,
   "metadata": {},
   "outputs": [],
   "source": [
    "sla_emergente =  corretivas_engenharia[corretivas_engenharia['PRIORIDADE'] == 'Emergente']\n",
    "sla_emergente_total = sla_emergente.shape[0]\n",
    "print(f\"Total de ordens de serviço emergentes abertas para engenharia clinica: {sla_emergente_total }\")"
   ]
  },
  {
   "cell_type": "markdown",
   "metadata": {},
   "source": [
    "***Sla triagem emergente engenharia %***"
   ]
  },
  {
   "cell_type": "code",
   "execution_count": null,
   "metadata": {},
   "outputs": [],
   "source": [
    "sla_emergente_regular = sla_emergente[sla_emergente['Estado tempo atendimento'] == 'Regular']\n",
    "sla_emergente_regular_total = sla_emergente_regular.shape[0]\n",
    "percentual_sla_emergente_engenharia = (sla_emergente_total/sla_emergente_regular_total) * 100\n",
    "print(f\"Total de atendimento emergente da engenharia clinica dentro do prazo: {percentual_sla_emergente_engenharia}%\")"
   ]
  },
  {
   "cell_type": "markdown",
   "metadata": {},
   "source": [
    "***Sla triagem urgente engenharia clinica***"
   ]
  },
  {
   "cell_type": "code",
   "execution_count": null,
   "metadata": {},
   "outputs": [],
   "source": [
    "sla_urgente_engenharia = corretivas_engenharia[corretivas_engenharia['PRIORIDADE'] == 'Urgente']\n",
    "sla_urgente_engenharia_total = sla_urgente_engenharia.shape[0]\n",
    "print(f\"Total de ordens de serviço urgentes abertas para engenharia clinica {sla_urgente_engenharia_total}\")"
   ]
  },
  {
   "cell_type": "markdown",
   "metadata": {},
   "source": [
    "***Sla triagem urgente engenharia %***"
   ]
  },
  {
   "cell_type": "code",
   "execution_count": null,
   "metadata": {},
   "outputs": [],
   "source": [
    "sla_urgente_regular = sla_urgente_engenharia[sla_urgente_engenharia['Estado tempo atendimento'] == 'Regular']\n",
    "sla_urgente_regular_total = sla_urgente_regular.shape[0]\n",
    "percentual_sla_urgente_engenharia = (sla_urgente_regular_total/sla_urgente_engenharia_total) * 100\n",
    "print(f\"Total de atendimento urgente da engenharia clinica dentro do prazo: {percentual_sla_urgente_engenharia}%\")"
   ]
  },
  {
   "cell_type": "markdown",
   "metadata": {},
   "source": [
    "***Sla triagem pouco urgente engenharia %***\n"
   ]
  },
  {
   "cell_type": "markdown",
   "metadata": {},
   "source": [
    "***SLA triagem pouco urgente engenharia clinica***"
   ]
  },
  {
   "cell_type": "code",
   "execution_count": null,
   "metadata": {},
   "outputs": [],
   "source": [
    "sla_poucourgente_engenharia = corretivas_engenharia[corretivas_engenharia['PRIORIDADE'] == 'Pouco urgente']\n",
    "sla_poucourgente_engenharia_total = sla_poucourgente_engenharia.shape[0]\n",
    "print(f\"Total de ordens de serviço pouco urgentes abertas para engenharia clinica: {sla_poucourgente_engenharia_total}\")"
   ]
  },
  {
   "cell_type": "markdown",
   "metadata": {},
   "source": [
    "***SLA triagem não urgente engenharia clinica***"
   ]
  },
  {
   "cell_type": "code",
   "execution_count": null,
   "metadata": {},
   "outputs": [],
   "source": [
    "sla_naourgente_engenharia = corretivas_engenharia[corretivas_engenharia['PRIORIDADE'] == 'Não urgente']\n",
    "sla_naourgente_engenharia_total = sla_naourgente_engenharia.shape[0]\n",
    "print(f\"Total de ordens de serviço não urgentes abertas para engenharia clinica {sla_naourgente_engenharia_total}\")"
   ]
  }
 ],
 "metadata": {
  "kernelspec": {
   "display_name": "Python 3",
   "language": "python",
   "name": "python3"
  },
  "language_info": {
   "codemirror_mode": {
    "name": "ipython",
    "version": 3
   },
   "file_extension": ".py",
   "mimetype": "text/x-python",
   "name": "python",
   "nbconvert_exporter": "python",
   "pygments_lexer": "ipython3",
   "version": "3.12.4"
  }
 },
 "nbformat": 4,
 "nbformat_minor": 2
}
