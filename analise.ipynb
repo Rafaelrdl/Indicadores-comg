{
 "cells": [
  {
   "cell_type": "markdown",
   "metadata": {},
   "source": [
    "***Importa biblioteca de analise de dados***"
   ]
  },
  {
   "cell_type": "code",
   "execution_count": 6,
   "metadata": {},
   "outputs": [],
   "source": [
    "import pandas as pd"
   ]
  },
  {
   "cell_type": "markdown",
   "metadata": {},
   "source": [
    "***Informa o local do arquivo de analise de dados do arkmeds e o transforma em um Dataframe***"
   ]
  },
  {
   "cell_type": "code",
   "execution_count": 7,
   "metadata": {},
   "outputs": [],
   "source": [
    "df = pd.read_excel('C:/Users/rafae/Projetos/Indicadores-comg/arquivo/ordens_servico.xls')"
   ]
  },
  {
   "cell_type": "markdown",
   "metadata": {},
   "source": [
    "***Informa quantas ordens de serviço corretivas foram abertas no total (engenharia clinica e predial)***"
   ]
  },
  {
   "cell_type": "code",
   "execution_count": 8,
   "metadata": {},
   "outputs": [
    {
     "name": "stdout",
     "output_type": "stream",
     "text": [
      "124\n"
     ]
    }
   ],
   "source": [
    "corretivas = df[df['TIPO SERVIÇO'] == 'Manutenção Corretiva']\n",
    "total_corretivas_abertas = corretivas.shape[0]\n",
    "print(total_corretivas_abertas)"
   ]
  },
  {
   "cell_type": "markdown",
   "metadata": {},
   "source": [
    "***Informa quantas ordens de serviço corretivas foram fechadas (Engenharia clinica e predial)***"
   ]
  },
  {
   "cell_type": "code",
   "execution_count": 9,
   "metadata": {},
   "outputs": [
    {
     "name": "stdout",
     "output_type": "stream",
     "text": [
      "84\n"
     ]
    }
   ],
   "source": [
    "corretivas_fechadas = corretivas[corretivas['ESTADO'] == 'Fechada']\n",
    "total_corretivas_fechadas = corretivas_fechadas.shape[0]\n",
    "print(total_corretivas_fechadas)"
   ]
  },
  {
   "cell_type": "markdown",
   "metadata": {},
   "source": [
    "***Informa quantas ordens de serviço preventivas foram abertas no total (engenharia clinica e predial)***"
   ]
  },
  {
   "cell_type": "code",
   "execution_count": 10,
   "metadata": {},
   "outputs": [
    {
     "name": "stdout",
     "output_type": "stream",
     "text": [
      "425\n"
     ]
    }
   ],
   "source": [
    "preventivas = df[df['TIPO SERVIÇO'] == 'Manutenção Preventiva']\n",
    "total_preventivas_abertas = preventivas.shape[0]\n",
    "print(total_preventivas_abertas)"
   ]
  },
  {
   "cell_type": "markdown",
   "metadata": {},
   "source": [
    "***Informa quantas ordens de serviço preventivas foram fechadas (Engenharia Clinica e Predial)***"
   ]
  },
  {
   "cell_type": "code",
   "execution_count": 11,
   "metadata": {},
   "outputs": [
    {
     "name": "stdout",
     "output_type": "stream",
     "text": [
      "186\n"
     ]
    }
   ],
   "source": [
    "preventivas_fechadas =  preventivas[preventivas['ESTADO'] == 'Fechada']\n",
    "total_preventivas_fechadas = preventivas_fechadas.shape[0]\n",
    "print(total_preventivas_fechadas)"
   ]
  },
  {
   "cell_type": "markdown",
   "metadata": {},
   "source": [
    "***Filtra pelo quadro de engenharia clinica***"
   ]
  },
  {
   "cell_type": "code",
   "execution_count": 12,
   "metadata": {},
   "outputs": [],
   "source": [
    "engenharia_clinica = df[df['QUADRO DE TRABALHO'] == 'Engenharia Clínica']"
   ]
  },
  {
   "cell_type": "markdown",
   "metadata": {},
   "source": [
    "***Total de corretivas abertas para engenharia clinica***"
   ]
  },
  {
   "cell_type": "code",
   "execution_count": 13,
   "metadata": {},
   "outputs": [
    {
     "name": "stdout",
     "output_type": "stream",
     "text": [
      "Total de manutenções corretivas abertas no mes: 20\n"
     ]
    }
   ],
   "source": [
    "corretivas_engenharia = engenharia_clinica[engenharia_clinica['TIPO SERVIÇO'] == 'Manutenção Corretiva']\n",
    "total_corretivas = corretivas_engenharia.shape[0]\n",
    "print(f\"Total de manutenções corretivas abertas no mes: {total_corretivas}\")"
   ]
  },
  {
   "cell_type": "markdown",
   "metadata": {},
   "source": [
    "***Total de corretivas fechada pela engenharia clinica***"
   ]
  },
  {
   "cell_type": "code",
   "execution_count": 14,
   "metadata": {},
   "outputs": [
    {
     "name": "stdout",
     "output_type": "stream",
     "text": [
      "Total de manutenções corretivas fechadas no mes: 16\n"
     ]
    }
   ],
   "source": [
    "corretivas_engenharia_fechadas = corretivas_engenharia[corretivas_engenharia['ESTADO'] == 'Fechada']\n",
    "total_corretivas_engenharia_fechadas = corretivas_engenharia_fechadas.shape[0]\n",
    "print(f\"Total de manutenções corretivas fechadas no mes: {total_corretivas_engenharia_fechadas}\")"
   ]
  },
  {
   "cell_type": "markdown",
   "metadata": {},
   "source": [
    "***Percentual de corretivas fechadas -  engenharia clinica***"
   ]
  },
  {
   "cell_type": "code",
   "execution_count": 15,
   "metadata": {},
   "outputs": [
    {
     "name": "stdout",
     "output_type": "stream",
     "text": [
      "Percentual de ordens corretivas fechadas: 80.00%\n"
     ]
    }
   ],
   "source": [
    "percentual_corretivas_fechadas = (total_corretivas_engenharia_fechadas / total_corretivas) * 100\n",
    "print(f\"Percentual de ordens corretivas fechadas: {percentual_corretivas_fechadas:.2f}%\")"
   ]
  },
  {
   "cell_type": "markdown",
   "metadata": {},
   "source": [
    "***Total de preventivas abertas - engenharia clinica***"
   ]
  },
  {
   "cell_type": "code",
   "execution_count": 16,
   "metadata": {},
   "outputs": [
    {
     "name": "stdout",
     "output_type": "stream",
     "text": [
      "Total de manutenções preventivas abertas para engenharia no mes: 37\n"
     ]
    }
   ],
   "source": [
    "preventivas_engenharia = engenharia_clinica[engenharia_clinica['TIPO SERVIÇO'] == 'Manutenção Preventiva']\n",
    "total_preventivas = preventivas_engenharia.shape[0]\n",
    "print(f\"Total de manutenções preventivas abertas para engenharia no mes: {total_preventivas}\")"
   ]
  },
  {
   "cell_type": "markdown",
   "metadata": {},
   "source": [
    "***Total de preventivas fechadas - engenharia clinica***"
   ]
  },
  {
   "cell_type": "code",
   "execution_count": 17,
   "metadata": {},
   "outputs": [
    {
     "name": "stdout",
     "output_type": "stream",
     "text": [
      "Total de manutenções preventivas fechadas pela engenharia no mes: 37\n"
     ]
    }
   ],
   "source": [
    "preventivas_engenharia_fechadas = preventivas_engenharia[preventivas_engenharia['ESTADO'] != 'Aberta']\n",
    "total_preventivas_engenharia_fechadas = preventivas_engenharia_fechadas.shape[0]\n",
    "print(f\"Total de manutenções preventivas fechadas pela engenharia no mes: {total_preventivas_engenharia_fechadas}\")"
   ]
  },
  {
   "cell_type": "markdown",
   "metadata": {},
   "source": [
    "***Percentual de preventivas fechadas - engenharia clinica***"
   ]
  },
  {
   "cell_type": "code",
   "execution_count": 18,
   "metadata": {},
   "outputs": [
    {
     "name": "stdout",
     "output_type": "stream",
     "text": [
      "Percentual de ordens preventivas fechadas: 100.00%\n"
     ]
    }
   ],
   "source": [
    "percentual_preventivas_fechadas= (total_preventivas_engenharia_fechadas / total_preventivas) * 100\n",
    "print(f\"Percentual de ordens preventivas fechadas: {percentual_preventivas_fechadas:.2f}%\")"
   ]
  },
  {
   "cell_type": "markdown",
   "metadata": {},
   "source": [
    "***SLA triagem emergente engenharia clinica***"
   ]
  },
  {
   "cell_type": "code",
   "execution_count": 19,
   "metadata": {},
   "outputs": [
    {
     "name": "stdout",
     "output_type": "stream",
     "text": [
      "Total de ordens de serviço emergentes abertas para engenharia clinica: 0\n"
     ]
    }
   ],
   "source": [
    "sla_emergente =  corretivas_engenharia[corretivas_engenharia['PRIORIDADE'] == 'Emergente']\n",
    "sla_emergente_total = sla_emergente.shape[0]\n",
    "print(f\"Total de ordens de serviço emergentes abertas para engenharia clinica: {sla_emergente_total }\")"
   ]
  },
  {
   "cell_type": "markdown",
   "metadata": {},
   "source": [
    "***Sla triagem emergente engenharia %***"
   ]
  },
  {
   "cell_type": "code",
   "execution_count": null,
   "metadata": {},
   "outputs": [],
   "source": [
    "sla_emergente_regular = sla_emergente[sla_emergente['Estado tempo atendimento'] == 'Regular']\n",
    "sla_emergente_regular_total = sla_emergente_regular.shape[0]\n",
    "percentual_sla_emergente_engenharia = (sla_emergente_total/sla_emergente_regular_total) * 100\n",
    "print(f\"Total de atendimento emergente da engenharia clinica dentro do prazo: {percentual_sla_emergente_engenharia}%\")"
   ]
  },
  {
   "cell_type": "markdown",
   "metadata": {},
   "source": [
    "***Sla triagem urgente engenharia clinica***"
   ]
  },
  {
   "cell_type": "code",
   "execution_count": 21,
   "metadata": {},
   "outputs": [
    {
     "name": "stdout",
     "output_type": "stream",
     "text": [
      "Total de ordens de serviço urgentes abertas para engenharia clinica 16\n"
     ]
    }
   ],
   "source": [
    "sla_urgente_engenharia = corretivas_engenharia[corretivas_engenharia['PRIORIDADE'] == 'Urgente']\n",
    "sla_urgente_engenharia_total = sla_urgente_engenharia.shape[0]\n",
    "print(f\"Total de ordens de serviço urgentes abertas para engenharia clinica {sla_urgente_engenharia_total}\")"
   ]
  },
  {
   "cell_type": "markdown",
   "metadata": {},
   "source": [
    "***Sla triagem urgente engenharia %***"
   ]
  },
  {
   "cell_type": "code",
   "execution_count": 22,
   "metadata": {},
   "outputs": [
    {
     "name": "stdout",
     "output_type": "stream",
     "text": [
      "Total de atendimento urgente da engenharia clinica dentro do prazo: 87.5%\n"
     ]
    }
   ],
   "source": [
    "sla_urgente_regular = sla_urgente_engenharia[sla_urgente_engenharia['Estado tempo atendimento'] == 'Regular']\n",
    "sla_urgente_regular_total = sla_urgente_regular.shape[0]\n",
    "percentual_sla_urgente_engenharia = (sla_urgente_regular_total/sla_urgente_engenharia_total) * 100\n",
    "print(f\"Total de atendimento urgente da engenharia clinica dentro do prazo: {percentual_sla_urgente_engenharia}%\")"
   ]
  },
  {
   "cell_type": "markdown",
   "metadata": {},
   "source": [
    "***Sla triagem pouco urgente engenharia %***\n"
   ]
  },
  {
   "cell_type": "markdown",
   "metadata": {},
   "source": [
    "***SLA triagem pouco urgente engenharia clinica***"
   ]
  },
  {
   "cell_type": "code",
   "execution_count": 23,
   "metadata": {},
   "outputs": [
    {
     "name": "stdout",
     "output_type": "stream",
     "text": [
      "Total de ordens de serviço pouco urgentes abertas para engenharia clinica: 3\n"
     ]
    }
   ],
   "source": [
    "sla_poucourgente_engenharia = corretivas_engenharia[corretivas_engenharia['PRIORIDADE'] == 'Pouco urgente']\n",
    "sla_poucourgente_engenharia_total = sla_poucourgente_engenharia.shape[0]\n",
    "print(f\"Total de ordens de serviço pouco urgentes abertas para engenharia clinica: {sla_poucourgente_engenharia_total}\")"
   ]
  },
  {
   "cell_type": "markdown",
   "metadata": {},
   "source": [
    "***SLA triagem não urgente engenharia clinica***"
   ]
  },
  {
   "cell_type": "code",
   "execution_count": 24,
   "metadata": {},
   "outputs": [
    {
     "name": "stdout",
     "output_type": "stream",
     "text": [
      "Total de ordens de serviço não urgentes abertas para engenharia clinica 1\n"
     ]
    }
   ],
   "source": [
    "sla_naourgente_engenharia = corretivas_engenharia[corretivas_engenharia['PRIORIDADE'] == 'Não urgente']\n",
    "sla_naourgente_engenharia_total = sla_naourgente_engenharia.shape[0]\n",
    "print(f\"Total de ordens de serviço não urgentes abertas para engenharia clinica {sla_naourgente_engenharia_total}\")"
   ]
  }
 ],
 "metadata": {
  "kernelspec": {
   "display_name": "Python 3",
   "language": "python",
   "name": "python3"
  },
  "language_info": {
   "codemirror_mode": {
    "name": "ipython",
    "version": 3
   },
   "file_extension": ".py",
   "mimetype": "text/x-python",
   "name": "python",
   "nbconvert_exporter": "python",
   "pygments_lexer": "ipython3",
   "version": "3.12.4"
  }
 },
 "nbformat": 4,
 "nbformat_minor": 2
}
